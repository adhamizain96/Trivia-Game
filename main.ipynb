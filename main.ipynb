{
 "cells": [
  {
   "cell_type": "code",
   "execution_count": 3,
   "id": "655f2fd4",
   "metadata": {},
   "outputs": [],
   "source": [
    "from Question_Model import Question   \n",
    "from Quiz_Brain import Quiz_Brain\n",
    "from User_Interface import Quiz_Interface\n",
    "from Data import question_data\n",
    "\n",
    "question_bank = []\n",
    "\n",
    "for question in question_data:\n",
    "    question_text = question['question']\n",
    "    question_answer = question['correct_answer']\n",
    "    new_question = Question(question_text, question_answer)\n",
    "    question_bank.append(new_question)\n",
    "    \n",
    "quiz_game = Quiz_Brain(question_bank)\n",
    "quiz_user_interface = Quiz_Interface(quiz_game)"
   ]
  },
  {
   "cell_type": "code",
   "execution_count": null,
   "id": "7cb6232d",
   "metadata": {},
   "outputs": [],
   "source": []
  }
 ],
 "metadata": {
  "kernelspec": {
   "display_name": "Python 3",
   "language": "python",
   "name": "python3"
  },
  "language_info": {
   "codemirror_mode": {
    "name": "ipython",
    "version": 3
   },
   "file_extension": ".py",
   "mimetype": "text/x-python",
   "name": "python",
   "nbconvert_exporter": "python",
   "pygments_lexer": "ipython3",
   "version": "3.8.8"
  }
 },
 "nbformat": 4,
 "nbformat_minor": 5
}
