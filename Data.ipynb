{
 "cells": [
  {
   "cell_type": "code",
   "execution_count": 1,
   "id": "fb926f08",
   "metadata": {},
   "outputs": [],
   "source": [
    "import requests    \n",
    "\n",
    "parameters = {'amount': 10, 'type': 'boolean'}\n",
    "#note - these are the standard steps to get information from a datasource using requests \n",
    "#requests.get(url, params = {key: value}, args)\n",
    "response = requests.get('https://opentdb.com/api.php', params = parameters)\n",
    "response.raise_for_status()\n",
    "#data in a .json format\n",
    "data = response.json()\n",
    "#print(data)\n",
    "question_data = data['results']\n",
    "#print(question_data)"
   ]
  },
  {
   "cell_type": "code",
   "execution_count": null,
   "id": "09831658",
   "metadata": {},
   "outputs": [],
   "source": []
  }
 ],
 "metadata": {
  "kernelspec": {
   "display_name": "Python 3",
   "language": "python",
   "name": "python3"
  },
  "language_info": {
   "codemirror_mode": {
    "name": "ipython",
    "version": 3
   },
   "file_extension": ".py",
   "mimetype": "text/x-python",
   "name": "python",
   "nbconvert_exporter": "python",
   "pygments_lexer": "ipython3",
   "version": "3.8.8"
  }
 },
 "nbformat": 4,
 "nbformat_minor": 5
}
