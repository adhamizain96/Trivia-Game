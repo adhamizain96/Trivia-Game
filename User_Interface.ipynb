{
 "cells": [
  {
   "cell_type": "code",
   "execution_count": 2,
   "id": "be527d31",
   "metadata": {},
   "outputs": [
    {
     "ename": "ModuleNotFoundError",
     "evalue": "No module named 'Quiz_Brain'",
     "output_type": "error",
     "traceback": [
      "\u001b[0;31m---------------------------------------------------------------------------\u001b[0m",
      "\u001b[0;31mModuleNotFoundError\u001b[0m                       Traceback (most recent call last)",
      "\u001b[0;32m<ipython-input-2-2202b557b255>\u001b[0m in \u001b[0;36m<module>\u001b[0;34m\u001b[0m\n\u001b[1;32m      1\u001b[0m \u001b[0;31m#tkinter - the standard Python interface to the Tcl/Tk GUI toolkit\u001b[0m\u001b[0;34m\u001b[0m\u001b[0;34m\u001b[0m\u001b[0;34m\u001b[0m\u001b[0m\n\u001b[1;32m      2\u001b[0m \u001b[0;32mfrom\u001b[0m \u001b[0mtkinter\u001b[0m \u001b[0;32mimport\u001b[0m \u001b[0;34m*\u001b[0m\u001b[0;34m\u001b[0m\u001b[0;34m\u001b[0m\u001b[0m\n\u001b[0;32m----> 3\u001b[0;31m \u001b[0;32mfrom\u001b[0m \u001b[0mQuiz_Brain\u001b[0m \u001b[0;32mimport\u001b[0m \u001b[0mQuiz_Brain\u001b[0m\u001b[0;34m\u001b[0m\u001b[0;34m\u001b[0m\u001b[0m\n\u001b[0m\u001b[1;32m      4\u001b[0m \u001b[0;34m\u001b[0m\u001b[0m\n\u001b[1;32m      5\u001b[0m \u001b[0;31m#CONSTANT - usually declared and assigned in a module\u001b[0m\u001b[0;34m\u001b[0m\u001b[0;34m\u001b[0m\u001b[0;34m\u001b[0m\u001b[0m\n",
      "\u001b[0;31mModuleNotFoundError\u001b[0m: No module named 'Quiz_Brain'"
     ]
    }
   ],
   "source": [
    "#tkinter - the standard Python interface to the Tcl/Tk GUI toolkit\n",
    "from tkinter import *    \n",
    "from Quiz_Brain import Quiz_Brain\n",
    "\n",
    "#CONSTANT - usually declared and assigned in a module\n",
    "#note - typical to use CAPS when writing CONSTANTS\n",
    "FONT = ('Courier', 24, 'normal')\n",
    "\n",
    "class Quiz_Interface:\n",
    "    def __init__(self, Quiz_Brain: Quiz_Brain):\n",
    "        self.quiz_game = Quiz_Brain\n",
    "        self.window = Tk()\n",
    "        self.window.title('Trivia Game Quiz - Presented by Zain Adhami')\n",
    "        #padx/pady - how many pixels to pad widget horizontally/vertically\n",
    "        #fg - foreground color\n",
    "        #bg - background color\n",
    "        #https://color-hex.org/color/375362 - repository for color codes\n",
    "        self.window.config(padx = 25, pady = 25, bg = '#375362')\n",
    "        self.score_label = Label(text = 'Current Score: 0', fg = 'white', bg = '#375362')\n",
    "        self.score_label.grid(row = 0, column = 1)\n",
    "        self.canvas = Canvas(width = 300, height = 250, bg = 'white')\n",
    "        #create_text = display one or more lines of text on a canvas C by creating a text object\n",
    "        #create_text - x, y, option...\n",
    "        self.question_text = self.canvas.create_text(150, 150, width = 250, text = '', fill = '#375362', font = FONT)\n",
    "        self.canvas.grid(row = 1, column = 0, columnspan = 2, padx = 0, pady = 50)\n",
    "        \n",
    "        true_img = PhotoImage(file = 'images/true.png')\n",
    "        self.correct_button = Button(image = true_img, highlightthickness = 0, command = self.true_button)\n",
    "        self.correct_button.grid(row = 2, column = 0)\n",
    "        false_img = PhotoImage(file = 'images/false.png')\n",
    "        self.incorrect_button = Button(image = false_img, highlightthickness = 0, command = self.false_button)\n",
    "        self.incorrect_button.grid(row = 2, column = 1)\n",
    "        \n",
    "        self.get_next_question()\n",
    "        self.window.mainloop()\n",
    "    def get_next_question(self):\n",
    "        self.canvas.config(bg = 'white')\n",
    "        if self.quiz_game.still_has_questions():\n",
    "            self.score_label.config(text = f'Score: {self.quiz_game.score}')\n",
    "            q_text = self.quiz_game.next_question()\n",
    "            self.canvas.itemconfig(self.question_text, text = q_text)\n",
    "        else:\n",
    "            self.canvas.itemconfig(self.question_text, text = 'The Trivia Game Quiz is over. Congrats on playing!')\n",
    "            self.true_button.config(state = 'disabled')\n",
    "            self.false_button.config(state = 'disabled')\n",
    "    def true_button(self):\n",
    "        self.question_feedback(self.quiz_game.check_answer('True'))\n",
    "    def false_button(self):\n",
    "        is_right = self.quiz_game.check_answer('False')\n",
    "        self.question_feedback(is_right)\n",
    "    def question_feedback(self, is_right):\n",
    "        if is_right:\n",
    "            self.canvas.config(bg = 'green')\n",
    "        else:\n",
    "            self.canvas.config(bg = 'red')\n",
    "        self.window.after(1000, self.get_next_question)"
   ]
  },
  {
   "cell_type": "code",
   "execution_count": null,
   "id": "31a0ada9",
   "metadata": {},
   "outputs": [],
   "source": []
  }
 ],
 "metadata": {
  "kernelspec": {
   "display_name": "Python 3",
   "language": "python",
   "name": "python3"
  },
  "language_info": {
   "codemirror_mode": {
    "name": "ipython",
    "version": 3
   },
   "file_extension": ".py",
   "mimetype": "text/x-python",
   "name": "python",
   "nbconvert_exporter": "python",
   "pygments_lexer": "ipython3",
   "version": "3.8.8"
  }
 },
 "nbformat": 4,
 "nbformat_minor": 5
}
