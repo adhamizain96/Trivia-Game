{
 "cells": [
  {
   "cell_type": "code",
   "execution_count": 1,
   "id": "731550b7",
   "metadata": {},
   "outputs": [],
   "source": [
    "import html\n",
    "\n",
    "class Quiz_Brain:\n",
    "    def __init__(self, q_list):\n",
    "        self.question_number = 0\n",
    "        self.score = 0\n",
    "        self.question_list = q_list\n",
    "        #self.current_question = None\n",
    "        self.current_question = None\n",
    "    def still_has_questions(self):\n",
    "        return self.question_number < len(self.question_list)\n",
    "    def next_question(self):\n",
    "        self.current_question = self.question_list[self.question_number]\n",
    "        self.question_number += 1\n",
    "        #html.unescape() - convert all named and numeric character references (e.g. &gt;, &#62;, &#x3e;) in the string to the corresponding unicode characters\n",
    "        q_text = html.unescape(self.current_question.text)\n",
    "        return f'Question{self.question_number}: {q_text}'\n",
    "    def check_answer(self, user_answer):\n",
    "        correct_answer = self.current_question.answer   \n",
    "        if user_answer.lower() == correct_answer.lower():\n",
    "            self.score += 1\n",
    "            return True\n",
    "        else:\n",
    "            return False"
   ]
  },
  {
   "cell_type": "code",
   "execution_count": null,
   "id": "c2260d2e",
   "metadata": {},
   "outputs": [],
   "source": []
  }
 ],
 "metadata": {
  "kernelspec": {
   "display_name": "Python 3",
   "language": "python",
   "name": "python3"
  },
  "language_info": {
   "codemirror_mode": {
    "name": "ipython",
    "version": 3
   },
   "file_extension": ".py",
   "mimetype": "text/x-python",
   "name": "python",
   "nbconvert_exporter": "python",
   "pygments_lexer": "ipython3",
   "version": "3.8.8"
  }
 },
 "nbformat": 4,
 "nbformat_minor": 5
}
